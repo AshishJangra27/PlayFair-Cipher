{
 "cells": [
  {
   "cell_type": "code",
   "execution_count": 245,
   "metadata": {},
   "outputs": [],
   "source": [
    "import numpy as np\n",
    "\n",
    "key = 'monarchy'.upper()\n",
    "\n",
    "lst = []\n",
    "\n",
    "for i in range(len(key)):\n",
    "    lst.append(key[i])"
   ]
  },
  {
   "cell_type": "code",
   "execution_count": 246,
   "metadata": {},
   "outputs": [],
   "source": [
    "i = 65\n",
    "\n",
    "while True:   \n",
    "    if (len(lst) == 25):\n",
    "        break\n",
    "        \n",
    "    if (i == 74):\n",
    "        pass\n",
    "    elif lst.count(chr(i)) == 0:\n",
    "        lst.append(chr(i))\n",
    "    else:\n",
    "        pass\n",
    "    i+=1\n",
    "    \n",
    "lst = np.reshape(lst, (5,5))"
   ]
  },
  {
   "cell_type": "code",
   "execution_count": 247,
   "metadata": {},
   "outputs": [
    {
     "data": {
      "text/plain": [
       "array([['M', 'O', 'N', 'A', 'R'],\n",
       "       ['C', 'H', 'Y', 'B', 'D'],\n",
       "       ['E', 'F', 'G', 'I', 'K'],\n",
       "       ['L', 'P', 'Q', 'S', 'T'],\n",
       "       ['U', 'V', 'W', 'X', 'Z']], dtype='|S1')"
      ]
     },
     "execution_count": 247,
     "metadata": {},
     "output_type": "execute_result"
    }
   ],
   "source": [
    "lst"
   ]
  },
  {
   "cell_type": "code",
   "execution_count": 248,
   "metadata": {},
   "outputs": [],
   "source": [
    "txt = 'instruments'.upper()\n",
    "t = []\n",
    "\n",
    "for i in range(0,len(txt)-1,2):\n",
    "    t.append(txt[i]+txt[i+1])\n",
    "    \n",
    "if (2*len(t) != len(txt)):\n",
    "    t.append(txt[-1]+'Z')"
   ]
  },
  {
   "cell_type": "code",
   "execution_count": 249,
   "metadata": {},
   "outputs": [
    {
     "data": {
      "text/plain": [
       "['IN', 'ST', 'RU', 'ME', 'NT', 'SZ']"
      ]
     },
     "execution_count": 249,
     "metadata": {},
     "output_type": "execute_result"
    }
   ],
   "source": [
    "t"
   ]
  },
  {
   "cell_type": "code",
   "execution_count": 250,
   "metadata": {},
   "outputs": [],
   "source": [
    "def index(arr):\n",
    "    \n",
    "    cord = []    \n",
    "    for i in range(5):\n",
    "        for j in range(5):\n",
    "            if (lst[i][j] == arr[0]):\n",
    "                cord.append([i,j])\n",
    "            elif((lst[i][j] == arr[1])):\n",
    "                cord.append([i,j])\n",
    "   \n",
    "    print(cord)\n",
    "    \n",
    "    if (cord[0][0] != cord[1][0] and cord[0][1] != cord[1][1]):\n",
    "\n",
    "        print('Diff Row, Diff Collumn')\n",
    "        \n",
    "        return [[cord[0][1],cord[1][0]], [cord[0][0],cord[1][1]]]\n",
    "\n",
    "    elif(cord[0][0] == cord[1][0] and cord[0][1] != cord[1][1]):\n",
    "        \n",
    "        print(\"Same Row\")    \n",
    "        return [[cord[0][0],cord[0][1] + 1], [cord[0][0],cord[1][1]+ 1]]\n",
    "\n",
    "    elif(cord[0][0] != cord[1][0] and cord[0][1] == cord[1][1]):\n",
    "\n",
    "        print(\"Same Collumn\")\n",
    "        return [[cord[0][0]+1,cord[0][1]], [cord[1][0]+1,cord[1][1]]]"
   ]
  },
  {
   "cell_type": "code",
   "execution_count": 251,
   "metadata": {
    "scrolled": false
   },
   "outputs": [
    {
     "name": "stdout",
     "output_type": "stream",
     "text": [
      "[[0, 2], [2, 3]]\n",
      "Diff Row, Diff Collumn\n",
      "[[3, 3], [3, 4]]\n",
      "Same Row\n",
      "[[0, 4], [4, 0]]\n",
      "Diff Row, Diff Collumn\n",
      "[[0, 0], [2, 0]]\n",
      "Same Collumn\n",
      "[[0, 2], [3, 4]]\n",
      "Diff Row, Diff Collumn\n",
      "[[3, 3], [4, 4]]\n",
      "Diff Row, Diff Collumn\n"
     ]
    }
   ],
   "source": [
    "cord = []\n",
    "for i in range(len(t)):\n",
    "    cord.append(index(t[i]))"
   ]
  },
  {
   "cell_type": "code",
   "execution_count": 252,
   "metadata": {},
   "outputs": [
    {
     "data": {
      "text/plain": [
       "[[[2, 2], [0, 3]],\n",
       " [[3, 4], [3, 5]],\n",
       " [[4, 4], [0, 0]],\n",
       " [[1, 0], [3, 0]],\n",
       " [[2, 3], [0, 4]],\n",
       " [[3, 4], [3, 4]]]"
      ]
     },
     "execution_count": 252,
     "metadata": {},
     "output_type": "execute_result"
    }
   ],
   "source": [
    "cord"
   ]
  },
  {
   "cell_type": "code",
   "execution_count": 253,
   "metadata": {},
   "outputs": [],
   "source": [
    "for i in range(len(cord)):\n",
    "    for j in range(len(cord[i])):\n",
    "    \n",
    "        if(cord[i][j][0] == 5):\n",
    "            cord[i][j][0] = 0\n",
    "\n",
    "\n",
    "        if(cord[i][j][1] == 5):\n",
    "            cord[i][j][1] = 0"
   ]
  },
  {
   "cell_type": "code",
   "execution_count": 267,
   "metadata": {
    "scrolled": true
   },
   "outputs": [
    {
     "data": {
      "text/plain": [
       "[2, 2]"
      ]
     },
     "execution_count": 267,
     "metadata": {},
     "output_type": "execute_result"
    }
   ],
   "source": [
    "cord[0][0]"
   ]
  },
  {
   "cell_type": "code",
   "execution_count": 272,
   "metadata": {},
   "outputs": [
    {
     "data": {
      "text/plain": [
       "'M'"
      ]
     },
     "execution_count": 272,
     "metadata": {},
     "output_type": "execute_result"
    }
   ],
   "source": [
    "lst[0][0]"
   ]
  },
  {
   "cell_type": "code",
   "execution_count": 268,
   "metadata": {},
   "outputs": [
    {
     "data": {
      "text/plain": [
       "array([['E', 'F', 'G', 'I', 'K'],\n",
       "       ['E', 'F', 'G', 'I', 'K']], dtype='|S1')"
      ]
     },
     "execution_count": 268,
     "metadata": {},
     "output_type": "execute_result"
    }
   ],
   "source": [
    "lst[cord[0][0]]"
   ]
  },
  {
   "cell_type": "code",
   "execution_count": 294,
   "metadata": {},
   "outputs": [],
   "source": [
    "fin = []\n",
    "\n",
    "for i in range(len(cord)):    \n",
    "    x1 = cord[i][0][0]\n",
    "    x2 = cord[i][0][1]\n",
    "    y1 = cord[i][1][0]\n",
    "    y2 = cord[i][1][1]\n",
    "    \n",
    "    fin.append((str(lst[x1,x2]) + str(lst[y1,y2])))"
   ]
  },
  {
   "cell_type": "code",
   "execution_count": 296,
   "metadata": {},
   "outputs": [],
   "source": [
    "fin_txt = ''\n",
    "for i in range(len(fin)):\n",
    "    fin_txt += fin[i]"
   ]
  },
  {
   "cell_type": "code",
   "execution_count": 297,
   "metadata": {},
   "outputs": [
    {
     "data": {
      "text/plain": [
       "array([['M', 'O', 'N', 'A', 'R'],\n",
       "       ['C', 'H', 'Y', 'B', 'D'],\n",
       "       ['E', 'F', 'G', 'I', 'K'],\n",
       "       ['L', 'P', 'Q', 'S', 'T'],\n",
       "       ['U', 'V', 'W', 'X', 'Z']], dtype='|S1')"
      ]
     },
     "execution_count": 297,
     "metadata": {},
     "output_type": "execute_result"
    }
   ],
   "source": [
    "lst"
   ]
  },
  {
   "cell_type": "code",
   "execution_count": 300,
   "metadata": {},
   "outputs": [
    {
     "name": "stdout",
     "output_type": "stream",
     "text": [
      "Main Text:INSTRUMENTS\n",
      "Encrypted Text:GATLZMCLIRTT\n"
     ]
    }
   ],
   "source": [
    "print(\"Main Text:\"+ txt)\n",
    "print(\"Encrypted Text:\"+ fin_txt)"
   ]
  }
 ],
 "metadata": {
  "kernelspec": {
   "display_name": "Python 2",
   "language": "python",
   "name": "python2"
  },
  "language_info": {
   "codemirror_mode": {
    "name": "ipython",
    "version": 2
   },
   "file_extension": ".py",
   "mimetype": "text/x-python",
   "name": "python",
   "nbconvert_exporter": "python",
   "pygments_lexer": "ipython2",
   "version": "2.7.16"
  }
 },
 "nbformat": 4,
 "nbformat_minor": 2
}
